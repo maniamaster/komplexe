{
 "metadata": {
  "name": "",
  "signature": "sha256:7f670d2034bd25eadf1e514a8257769b902ff72c4e7229232987556e84b1cec3"
 },
 "nbformat": 3,
 "nbformat_minor": 0,
 "worksheets": []
}